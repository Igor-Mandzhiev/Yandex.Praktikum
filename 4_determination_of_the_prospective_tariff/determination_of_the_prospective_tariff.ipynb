{
 "cells": [
  {
   "cell_type": "markdown",
   "metadata": {},
   "source": [
    "## Определение перспективного тарифа для телеком компании\n",
    "**Описание проекта**\n",
    "\n",
    "Вы аналитик компании «Мегалайн» — федерального оператора сотовой связи. Клиентам предлагают два тарифных плана: «Смарт» и «Ультра». Чтобы скорректировать рекламный бюджет, коммерческий департамент хочет понять, какой тариф приносит больше денег.\n",
    "Вам предстоит сделать предварительный анализ тарифов на небольшой выборке клиентов. В вашем распоряжении данные 500 пользователей «Мегалайна»: кто они, откуда, каким тарифом пользуются, сколько звонков и сообщений каждый отправил за 2018 год. Нужно проанализировать поведение клиентов и сделать вывод — какой тариф лучше."
   ]
  },
  {
   "cell_type": "markdown",
   "metadata": {},
   "source": [
    "## Шаг 1. Откройте файл с данными и изучите общую информацию"
   ]
  },
  {
   "cell_type": "code",
   "execution_count": 1,
   "metadata": {},
   "outputs": [],
   "source": [
    "import pandas as pd\n",
    "df_calls=pd.read_csv('//datasets/calls.csv')\n",
    "df_internet=pd.read_csv('/datasets/internet.csv')\n",
    "df_messages=pd.read_csv('/datasets/messages.csv')\n",
    "df_tariffs=pd.read_csv('/datasets/tariffs.csv')\n",
    "df_users=pd.read_csv('/datasets/users.csv')\n",
    "\n"
   ]
  },
  {
   "cell_type": "code",
   "execution_count": 2,
   "metadata": {},
   "outputs": [
    {
     "name": "stdout",
     "output_type": "stream",
     "text": [
      "       id   call_date  duration  user_id\n",
      "0  1000_0  2018-07-25      0.00     1000\n",
      "1  1000_1  2018-08-17      0.00     1000\n",
      "2  1000_2  2018-06-11      2.85     1000\n",
      "3  1000_3  2018-09-21     13.80     1000\n",
      "4  1000_4  2018-12-15      5.18     1000\n",
      "<class 'pandas.core.frame.DataFrame'>\n",
      "RangeIndex: 202607 entries, 0 to 202606\n",
      "Data columns (total 4 columns):\n",
      "id           202607 non-null object\n",
      "call_date    202607 non-null object\n",
      "duration     202607 non-null float64\n",
      "user_id      202607 non-null int64\n",
      "dtypes: float64(1), int64(1), object(2)\n",
      "memory usage: 6.2+ MB\n",
      "None\n"
     ]
    }
   ],
   "source": [
    "print(df_calls.head())\n",
    "print(df_calls.info())"
   ]
  },
  {
   "cell_type": "code",
   "execution_count": 3,
   "metadata": {},
   "outputs": [
    {
     "name": "stdout",
     "output_type": "stream",
     "text": [
      "   Unnamed: 0      id  mb_used session_date  user_id\n",
      "0           0  1000_0   112.95   2018-11-25     1000\n",
      "1           1  1000_1  1052.81   2018-09-07     1000\n",
      "2           2  1000_2  1197.26   2018-06-25     1000\n",
      "3           3  1000_3   550.27   2018-08-22     1000\n",
      "4           4  1000_4   302.56   2018-09-24     1000\n",
      "<class 'pandas.core.frame.DataFrame'>\n",
      "RangeIndex: 149396 entries, 0 to 149395\n",
      "Data columns (total 5 columns):\n",
      "Unnamed: 0      149396 non-null int64\n",
      "id              149396 non-null object\n",
      "mb_used         149396 non-null float64\n",
      "session_date    149396 non-null object\n",
      "user_id         149396 non-null int64\n",
      "dtypes: float64(1), int64(2), object(2)\n",
      "memory usage: 5.7+ MB\n",
      "None\n"
     ]
    }
   ],
   "source": [
    "print(df_internet.head())\n",
    "print(df_internet.info())"
   ]
  },
  {
   "cell_type": "code",
   "execution_count": 4,
   "metadata": {},
   "outputs": [
    {
     "name": "stdout",
     "output_type": "stream",
     "text": [
      "       id message_date  user_id\n",
      "0  1000_0   2018-06-27     1000\n",
      "1  1000_1   2018-10-08     1000\n",
      "2  1000_2   2018-08-04     1000\n",
      "3  1000_3   2018-06-16     1000\n",
      "4  1000_4   2018-12-05     1000\n",
      "<class 'pandas.core.frame.DataFrame'>\n",
      "RangeIndex: 123036 entries, 0 to 123035\n",
      "Data columns (total 3 columns):\n",
      "id              123036 non-null object\n",
      "message_date    123036 non-null object\n",
      "user_id         123036 non-null int64\n",
      "dtypes: int64(1), object(2)\n",
      "memory usage: 2.8+ MB\n",
      "None\n"
     ]
    }
   ],
   "source": [
    "print(df_messages.head())\n",
    "print(df_messages.info())"
   ]
  },
  {
   "cell_type": "code",
   "execution_count": 5,
   "metadata": {},
   "outputs": [
    {
     "name": "stdout",
     "output_type": "stream",
     "text": [
      "   messages_included  mb_per_month_included  minutes_included  \\\n",
      "0                 50                  15360               500   \n",
      "1               1000                  30720              3000   \n",
      "\n",
      "   rub_monthly_fee  rub_per_gb  rub_per_message  rub_per_minute tariff_name  \n",
      "0              550         200                3               3       smart  \n",
      "1             1950         150                1               1       ultra  \n",
      "<class 'pandas.core.frame.DataFrame'>\n",
      "RangeIndex: 2 entries, 0 to 1\n",
      "Data columns (total 8 columns):\n",
      "messages_included        2 non-null int64\n",
      "mb_per_month_included    2 non-null int64\n",
      "minutes_included         2 non-null int64\n",
      "rub_monthly_fee          2 non-null int64\n",
      "rub_per_gb               2 non-null int64\n",
      "rub_per_message          2 non-null int64\n",
      "rub_per_minute           2 non-null int64\n",
      "tariff_name              2 non-null object\n",
      "dtypes: int64(7), object(1)\n",
      "memory usage: 256.0+ bytes\n",
      "None\n"
     ]
    }
   ],
   "source": [
    "print(df_tariffs.head())\n",
    "print(df_tariffs.info())"
   ]
  },
  {
   "cell_type": "code",
   "execution_count": 6,
   "metadata": {},
   "outputs": [
    {
     "name": "stdout",
     "output_type": "stream",
     "text": [
      "    user_id  age  churn_date              city first_name   last_name  \\\n",
      "0      1000   52         NaN         Краснодар     Рафаил   Верещагин   \n",
      "1      1001   41         NaN            Москва       Иван        Ежов   \n",
      "2      1002   59         NaN       Стерлитамак    Евгений   Абрамович   \n",
      "3      1003   23         NaN            Москва      Белла    Белякова   \n",
      "4      1004   68         NaN       Новокузнецк    Татьяна    Авдеенко   \n",
      "5      1005   67         NaN  Набережные Челны   Афанасий      Горлов   \n",
      "6      1006   21         NaN         Ульяновск     Леонид    Ермолаев   \n",
      "7      1007   65         NaN            Москва        Юна    Березина   \n",
      "8      1008   63         NaN         Челябинск     Рустэм   Пономарёв   \n",
      "9      1009   24         NaN             Пермь   Василиса     Блинова   \n",
      "10     1010   26         NaN            Тюмень     Эдуард     Кононов   \n",
      "11     1011   44         NaN            Самара   Веселина      Алёшко   \n",
      "12     1012   38         NaN   Санкт-Петербург     Варлам    Соловьев   \n",
      "13     1013   36         NaN           Иваново      Борис   Андреенко   \n",
      "14     1014   64         NaN         Чебоксары       Яков    Акинфьев   \n",
      "15     1015   26         NaN         Челябинск     Рузана     Алюшина   \n",
      "16     1016   58         NaN              Омск     Марица    Сазонова   \n",
      "17     1017   73         NaN         Краснодар      Мария  Аленникова   \n",
      "18     1018   71         NaN               Уфа     Матвей     Золотов   \n",
      "19     1019   63  2018-10-05             Томск    Игнатий     Круглов   \n",
      "\n",
      "      reg_date tariff  \n",
      "0   2018-05-25  ultra  \n",
      "1   2018-11-01  smart  \n",
      "2   2018-06-17  smart  \n",
      "3   2018-08-17  ultra  \n",
      "4   2018-05-14  ultra  \n",
      "5   2018-01-25  smart  \n",
      "6   2018-02-26  smart  \n",
      "7   2018-04-19  smart  \n",
      "8   2018-12-19  smart  \n",
      "9   2018-03-22  smart  \n",
      "10  2018-08-05  smart  \n",
      "11  2018-03-19  smart  \n",
      "12  2018-03-28  smart  \n",
      "13  2018-11-14  ultra  \n",
      "14  2018-05-15  smart  \n",
      "15  2018-04-30  smart  \n",
      "16  2018-11-21  ultra  \n",
      "17  2018-05-22  smart  \n",
      "18  2018-04-01  ultra  \n",
      "19  2018-05-16  ultra  \n",
      "<class 'pandas.core.frame.DataFrame'>\n",
      "RangeIndex: 500 entries, 0 to 499\n",
      "Data columns (total 8 columns):\n",
      "user_id       500 non-null int64\n",
      "age           500 non-null int64\n",
      "churn_date    38 non-null object\n",
      "city          500 non-null object\n",
      "first_name    500 non-null object\n",
      "last_name     500 non-null object\n",
      "reg_date      500 non-null object\n",
      "tariff        500 non-null object\n",
      "dtypes: int64(2), object(6)\n",
      "memory usage: 31.4+ KB\n",
      "None\n"
     ]
    }
   ],
   "source": [
    "print(df_users.head(20))\n",
    "print(df_users.info())"
   ]
  },
  {
   "cell_type": "markdown",
   "metadata": {},
   "source": [
    "**Вывод:**\n",
    "\n",
    "Файлы с данными открыты и изучены.Теперь можно подготовить и лучше изучить данные."
   ]
  },
  {
   "cell_type": "markdown",
   "metadata": {},
   "source": [
    "<div style=\"border:solid green 2px; padding: 20px\"> <h1 style=\"color:green; margin-bottom:20px\">Комментарий наставника</h1>\n",
    "\n",
    "Молодец, что провёл первичный анализ полученных данных, это всегда быстро помогает понять с чем предстоит работать, по выводам нареканий нет - всё верно и точно\n",
    "</div>"
   ]
  },
  {
   "cell_type": "markdown",
   "metadata": {},
   "source": [
    "## Шаг 2. Подготовьте данные"
   ]
  },
  {
   "cell_type": "code",
   "execution_count": 7,
   "metadata": {},
   "outputs": [
    {
     "data": {
      "text/plain": [
       "<matplotlib.axes._subplots.AxesSubplot at 0x7faf966b2c50>"
      ]
     },
     "execution_count": 7,
     "metadata": {},
     "output_type": "execute_result"
    },
    {
     "data": {
      "image/png": "[encoded data removed]",
      "text/plain": [
       "<Figure size 432x288 with 1 Axes>"
      ]
     },
     "metadata": {
      "needs_background": "light"
     },
     "output_type": "display_data"
    }
   ],
   "source": [
    "import matplotlib.pyplot as plt\n",
    "df_calls['duration'].hist(bins=100)"
   ]
  },
  {
   "cell_type": "code",
   "execution_count": 8,
   "metadata": {},
   "outputs": [
    {
     "data": {
      "text/plain": [
       "<matplotlib.axes._subplots.AxesSubplot at 0x7faf96351a50>"
      ]
     },
     "execution_count": 8,
     "metadata": {},
     "output_type": "execute_result"
    },
    {
     "data": {
      "image/png": "[encoded data removed]",
      "text/plain": [
       "<Figure size 432x288 with 1 Axes>"
      ]
     },
     "metadata": {
      "needs_background": "light"
     },
     "output_type": "display_data"
    }
   ],
   "source": [
    "df_internet['mb_used'].hist(bins=100)"
   ]
  },
  {
   "cell_type": "code",
   "execution_count": 9,
   "metadata": {},
   "outputs": [
    {
     "data": {
      "text/plain": [
       "<matplotlib.axes._subplots.AxesSubplot at 0x7faf95aa2f10>"
      ]
     },
     "execution_count": 9,
     "metadata": {},
     "output_type": "execute_result"
    },
    {
     "data": {
      "image/png": "[encoded data removed]",
      "text/plain": [
       "<Figure size 432x288 with 1 Axes>"
      ]
     },
     "metadata": {
      "needs_background": "light"
     },
     "output_type": "display_data"
    }
   ],
   "source": [
    "calls=df_calls.query('duration > 0')\n",
    "calls['duration'].hist(bins=100)"
   ]
  },
  {
   "cell_type": "code",
   "execution_count": 10,
   "metadata": {},
   "outputs": [
    {
     "data": {
      "text/plain": [
       "<matplotlib.axes._subplots.AxesSubplot at 0x7faf930fec10>"
      ]
     },
     "execution_count": 10,
     "metadata": {},
     "output_type": "execute_result"
    },
    {
     "data": {
      "image/png": "[encoded data removed]",
      "text/plain": [
       "<Figure size 432x288 with 1 Axes>"
      ]
     },
     "metadata": {
      "needs_background": "light"
     },
     "output_type": "display_data"
    }
   ],
   "source": [
    "internet=df_internet.query('mb_used > 0')\n",
    "internet['mb_used'].hist(bins=100)"
   ]
  },
  {
   "cell_type": "code",
   "execution_count": 11,
   "metadata": {},
   "outputs": [],
   "source": [
    "<div style=\"border:solid  orange  2px; padding: 20px\"> <h1 style=\"color: orange ; margin-bottom:20px\">Комментарий наставника</h1>\n",
    "\n",
    "не забывай подписывать обе оси на графиках и указывать осмысленное название для графикаpd.set_option('mode.chained_assignment', None)\n",
    "calls['call_date']=pd.to_datetime(calls['call_date'], format='%Y-%m-%d')\n",
    "internet['session_date']=pd.to_datetime(internet['session_date'], format='%Y-%m-%d')\n",
    "df_messages['message_date']=pd.to_datetime(df_messages['message_date'], format='%Y-%m-%d')\n"
   ]
  },
  {
   "cell_type": "code",
   "execution_count": 12,
   "metadata": {},
   "outputs": [],
   "source": [
    "calls['month']=pd.DatetimeIndex(calls['call_date']).month\n",
    "internet['month']=pd.DatetimeIndex(internet['session_date']).month\n",
    "df_messages['month']=pd.DatetimeIndex(df_messages['message_date']).month\n"
   ]
  },
  {
   "cell_type": "code",
   "execution_count": 13,
   "metadata": {},
   "outputs": [
    {
     "name": "stdout",
     "output_type": "stream",
     "text": [
      "       id  call_date  duration  user_id  month\n",
      "2  1000_2 2018-06-11       3.0     1000      6\n",
      "3  1000_3 2018-09-21      14.0     1000      9\n",
      "4  1000_4 2018-12-15       5.0     1000     12\n",
      "7  1000_7 2018-08-22      18.0     1000      8\n",
      "8  1000_8 2018-09-15      18.0     1000      9\n"
     ]
    }
   ],
   "source": [
    "calls['duration']=round(calls['duration'])\n",
    "print(calls.head())\n"
   ]
  },
  {
   "cell_type": "code",
   "execution_count": 14,
   "metadata": {},
   "outputs": [
    {
     "name": "stdout",
     "output_type": "stream",
     "text": [
      "   Unnamed: 0      id  mb_used session_date  user_id  month\n",
      "0           0  1000_0    113.0   2018-11-25     1000     11\n",
      "1           1  1000_1   1053.0   2018-09-07     1000      9\n",
      "2           2  1000_2   1197.0   2018-06-25     1000      6\n",
      "3           3  1000_3    550.0   2018-08-22     1000      8\n",
      "4           4  1000_4    303.0   2018-09-24     1000      9\n"
     ]
    }
   ],
   "source": [
    "internet['mb_used']=round(internet['mb_used'])\n",
    "print(internet.head())"
   ]
  },
  {
   "cell_type": "code",
   "execution_count": 15,
   "metadata": {},
   "outputs": [
    {
     "name": "stdout",
     "output_type": "stream",
     "text": [
      "       id message_date  user_id  month\n",
      "0  1000_0   2018-06-27     1000      6\n",
      "1  1000_1   2018-10-08     1000     10\n",
      "2  1000_2   2018-08-04     1000      8\n",
      "3  1000_3   2018-06-16     1000      6\n",
      "4  1000_4   2018-12-05     1000     12\n"
     ]
    }
   ],
   "source": [
    "print(df_messages.head())"
   ]
  },
  {
   "cell_type": "markdown",
   "metadata": {},
   "source": [
    "Для таблиц с звонками, интернетом и смс добавил столбец с месяцем.\n",
    "Т.к оператор округляет значения минут и мегабайт для списания оплаты, поэтому считать суммарные траты тоже будем по округленным значениям для корректного отображения итоговых сумм за месяц."
   ]
  },
  {
   "cell_type": "code",
   "execution_count": 16,
   "metadata": {},
   "outputs": [],
   "source": [
    "calls_pivot_table=calls.pivot_table(index=['user_id','month'],values=['duration'],aggfunc=['sum','count'])\n",
    "internet_pivot_table=internet.pivot_table(index=['user_id','month'], values=['mb_used'],aggfunc=['sum'])\n",
    "messages_pivot_table=df_messages.pivot_table(index=['user_id','month'],values=['id'],aggfunc=['count'])\n",
    "calls_pivot_table.columns = ['calls_sum', 'calls_count']\n",
    "internet_pivot_table.columns = ['mb_sum']\n",
    "messages_pivot_table.columns = ['messages_count']"
   ]
  },
  {
   "cell_type": "code",
   "execution_count": 17,
   "metadata": {},
   "outputs": [],
   "source": [
    "users_month_pivot = calls_pivot_table.join([internet_pivot_table, messages_pivot_table])"
   ]
  },
  {
   "cell_type": "code",
   "execution_count": 18,
   "metadata": {},
   "outputs": [],
   "source": [
    "users_month_pivot['id'] = users_month_pivot.index.get_level_values('user_id')\n",
    "users_month_pivot['month'] = users_month_pivot.index.get_level_values('month')\n",
    "users_month_pivot = users_month_pivot.reset_index(drop = True)\n",
    "users_month_pivot = users_month_pivot.fillna(0)"
   ]
  },
  {
   "cell_type": "code",
   "execution_count": 19,
   "metadata": {},
   "outputs": [],
   "source": [
    "df_users.set_axis(['id', \n",
    "                'age', \n",
    "                'churn_date', \n",
    "                'city', \n",
    "                'first_name', \n",
    "                'last_name', \n",
    "                'reg_date', \n",
    "                'tariff_name'], \n",
    "               axis = 'columns', \n",
    "               inplace = True)"
   ]
  },
  {
   "cell_type": "code",
   "execution_count": 20,
   "metadata": {},
   "outputs": [],
   "source": [
    "users_month_pivot = users_month_pivot.merge(df_users, on='id')\n",
    "users_month_pivot = users_month_pivot.merge(df_tariffs, on='tariff_name')"
   ]
  },
  {
   "cell_type": "code",
   "execution_count": 21,
   "metadata": {},
   "outputs": [],
   "source": [
    "import math\n",
    "\n",
    "def payed(data):\n",
    "    minuts_over = 0\n",
    "    gb_over = 0\n",
    "    message_over = 0\n",
    "    \n",
    "    tar_min = data['minutes_included']\n",
    "    if data['calls_sum'] > tar_min:\n",
    "        minuts_over = data['calls_sum'] - tar_min\n",
    "    \n",
    "    tar_mess = data['messages_included']\n",
    "    if data['messages_count'] > tar_mess:\n",
    "        message_over = data['messages_count'] - tar_mess\n",
    "        \n",
    "    tar_mb = data['mb_per_month_included']\n",
    "    if data['mb_sum'] > tar_mb:\n",
    "        gb_over = (data['mb_sum'] - tar_mb) / 1024\n",
    "        \n",
    "    summa = math.ceil(data['rub_monthly_fee'] + \n",
    "             minuts_over * data['rub_per_minute'] + \n",
    "             message_over * data['rub_per_message'] + \n",
    "             gb_over * data['rub_per_gb'])\n",
    "    \n",
    "    return summa\n",
    "\n",
    "users_month_pivot['payed'] = users_month_pivot.apply(payed, axis=1)"
   ]
  },
  {
   "cell_type": "markdown",
   "metadata": {},
   "source": [
    "При помощи цикла посчитаны траты за месяц, где можно увидеть траты для каждого пользователя.\n",
    "Далее разделим нашу таблицу по тарифам, для удоства дальнейшей работы и анализа."
   ]
  },
  {
   "cell_type": "code",
   "execution_count": 22,
   "metadata": {},
   "outputs": [],
   "source": [
    "users_month_pivot_ultra = users_month_pivot.query('tariff_name == \"ultra\"')\n",
    "users_month_pivot_smart = users_month_pivot.query('tariff_name == \"smart\"')"
   ]
  },
  {
   "cell_type": "code",
   "execution_count": 23,
   "metadata": {},
   "outputs": [
    {
     "data": {
      "image/png": "[encoded data removed]",
      "text/plain": [
       "<Figure size 432x288 with 1 Axes>"
      ]
     },
     "metadata": {},
     "output_type": "display_data"
    }
   ],
   "source": [
    "import seaborn as sns, numpy as np\n",
    "sns.set(); np.random.seed(0)\n",
    "smart = users_month_pivot_smart['payed']\n",
    "smart_payed = sns.distplot(smart)\n"
   ]
  },
  {
   "cell_type": "markdown",
   "metadata": {},
   "source": [
    "Данные выручки пользователей тарифа **Смарт**"
   ]
  },
  {
   "cell_type": "code",
   "execution_count": 24,
   "metadata": {},
   "outputs": [
    {
     "data": {
      "image/png": "[encoded data removed]",
      "text/plain": [
       "<Figure size 432x288 with 1 Axes>"
      ]
     },
     "metadata": {},
     "output_type": "display_data"
    }
   ],
   "source": [
    "ultra = users_month_pivot_ultra['payed']\n",
    "ultra_payed = sns.distplot(ultra)\n"
   ]
  },
  {
   "cell_type": "markdown",
   "metadata": {},
   "source": [
    "Данные выручки пользователей тарифа **Ультра**"
   ]
  },
  {
   "cell_type": "code",
   "execution_count": 25,
   "metadata": {},
   "outputs": [],
   "source": [
    "users_month_pivot_smart['calls_sum']=(users_month_pivot_smart['calls_sum']).astype('int')\n",
    "users_month_pivot_smart['calls_count']=users_month_pivot_smart['calls_count'].astype('int')\n",
    "users_month_pivot_smart['mb_sum']=users_month_pivot_smart['mb_sum'].astype('int')\n",
    "users_month_pivot_smart['messages_count']=users_month_pivot_smart['messages_count'].astype('int')"
   ]
  },
  {
   "cell_type": "code",
   "execution_count": 26,
   "metadata": {},
   "outputs": [],
   "source": [
    "users_month_pivot_ultra['calls_sum']=users_month_pivot_ultra['calls_sum'].astype('int')\n",
    "users_month_pivot_ultra['calls_count']=users_month_pivot_ultra['calls_count'].astype('int')\n",
    "users_month_pivot_ultra['mb_sum']=users_month_pivot_ultra['mb_sum'].astype('int')\n",
    "users_month_pivot_ultra['messages_count']=users_month_pivot_ultra['messages_count'].astype('int')"
   ]
  },
  {
   "cell_type": "markdown",
   "metadata": {},
   "source": [
    "Для более удобного восприятия данные приведены к целочисленным значениям."
   ]
  },
  {
   "cell_type": "code",
   "execution_count": 27,
   "metadata": {},
   "outputs": [
    {
     "name": "stdout",
     "output_type": "stream",
     "text": [
      "                                                                        payed\n",
      "last_name first_name calls_sum calls_count mb_sum messages_count month       \n",
      "Ёркин     Пётр       230       35          8779   32             4        550\n",
      "                     423       51          17696  47             5       1007\n",
      "                     466       57          10475  49             10       550\n",
      "                     517       61          21691  51             8       1841\n",
      "                     562       70          16617  55             12       997\n",
      "                     581       68          19666  52             6       1641\n",
      "                     588       69          14772  53             9        823\n",
      "                     631       68          15823  57             7       1055\n",
      "                     703       77          14528  54             11      1171\n",
      "Ёркина    Галина     158       22          16870  4              11       845\n",
      "                     252       29          14859  4              12       550\n",
      "                     261       30          23642  3              8       2168\n",
      "                     270       29          13936  2              9        550\n",
      "                     280       33          19722  6              10      1402\n",
      "                     311       38          14258  5              7        550\n",
      "                     330       40          15692  4              6        615\n",
      "Ёрохов    Даниил     291       32          9978   17             6        550\n",
      "                     358       45          15876  27             10       651\n",
      "                     430       57          11984  29             9        550\n",
      "                     447       45          19011  33             12      1264\n"
     ]
    }
   ],
   "source": [
    "result_smart=users_month_pivot_smart.pivot_table(index=['last_name','first_name','calls_sum','calls_count','mb_sum','messages_count','month'], values='payed')\n",
    "print(result_smart.head(20))"
   ]
  },
  {
   "cell_type": "code",
   "execution_count": 28,
   "metadata": {},
   "outputs": [
    {
     "name": "stdout",
     "output_type": "stream",
     "text": [
      "                                                                        payed\n",
      "last_name first_name calls_sum calls_count mb_sum messages_count month       \n",
      "Ёлчина    Валерия    347       38          9999   44             12      1950\n",
      "                     510       63          12476  40             7       1950\n",
      "                     770       97          20561  84             8       1950\n",
      "                     772       94          28259  97             9       1950\n",
      "                     803       107         19369  89             11      1950\n",
      "                     1026      127         18714  101            10      1950\n",
      "Ёрохова   Розалия    0         1           10026  31             6       1950\n",
      "                     12        1           32757  111            7       2249\n",
      "                     14        4           17145  83             11      1950\n",
      "                     26        5           29921  106            10      1950\n",
      "                     41        6           27948  89             9       1950\n",
      "                     49        6           27476  98             8       1950\n",
      "                     93        7           38371  91             12      3071\n",
      "Абакшина  Алевтина   94        15          2697   7              7       1950\n",
      "                     422       55          28986  30             10      1950\n",
      "                     509       56          20940  27             8       1950\n",
      "                     535       54          18241  32             11      1950\n",
      "                     551       62          18351  27             12      1950\n",
      "                     576       68          28523  33             9       1950\n",
      "Абалдуева Эмилия     55        7           10929  18             6       1950\n"
     ]
    }
   ],
   "source": [
    "result_ultra=users_month_pivot_ultra.pivot_table(index=['last_name','first_name','calls_sum','calls_count','mb_sum','messages_count','month'], values='payed')\n",
    "print(result_ultra.head(20))"
   ]
  },
  {
   "cell_type": "markdown",
   "metadata": {},
   "source": [
    "Наша таблица с итоговыми значениями помесячной выручки с каждого пользователя получена.\n",
    "\n",
    "Теперь проанализируем данные."
   ]
  },
  {
   "cell_type": "markdown",
   "metadata": {},
   "source": [
    "## Шаг 3. Проанализируйте данные"
   ]
  },
  {
   "cell_type": "markdown",
   "metadata": {},
   "source": [
    "**Пронанализируем тариф Ультра**"
   ]
  },
  {
   "cell_type": "code",
   "execution_count": 29,
   "metadata": {},
   "outputs": [
    {
     "name": "stdout",
     "output_type": "stream",
     "text": [
      "Среднее колличество минут в месяц 516.8278775079198\n",
      "Медиана колличества минут в месяц 499.0\n",
      "Дисперсия минут в месяц 83027.63563255945\n",
      "Стандартное отклонение минут в месяц 288.1451641665351\n"
     ]
    },
    {
     "data": {
      "image/png": "[encoded data removed]",
      "text/plain": [
       "<Figure size 432x288 with 1 Axes>"
      ]
     },
     "metadata": {},
     "output_type": "display_data"
    }
   ],
   "source": [
    "users_month_pivot_ultra['calls_sum'].hist(bins=100)\n",
    "print('Среднее колличество минут в месяц',users_month_pivot_ultra['calls_sum'].mean())\n",
    "print('Медиана колличества минут в месяц',users_month_pivot_ultra['calls_sum'].median())\n",
    "print('Дисперсия минут в месяц', np.var(users_month_pivot_ultra['calls_sum']))\n",
    "print('Стандартное отклонение минут в месяц',np.sqrt(np.var(users_month_pivot_ultra['calls_sum'])))\n"
   ]
  },
  {
   "cell_type": "markdown",
   "metadata": {},
   "source": [
    "Гистограмма имеет положительную скошенность."
   ]
  },
  {
   "cell_type": "code",
   "execution_count": 30,
   "metadata": {},
   "outputs": [
    {
     "name": "stdout",
     "output_type": "stream",
     "text": [
      "Среднее колличество трафика в месяц 19471.605068637804\n",
      "Медиана колличества трафика в месяц 19315.0\n",
      "Дисперсия трафика в месяц 102466110.60432489\n",
      "Стандартное отклонение трафика в месяц 10122.554549338072\n"
     ]
    },
    {
     "data": {
      "image/png": "[encoded data removed]",
      "text/plain": [
       "<Figure size 432x288 with 1 Axes>"
      ]
     },
     "metadata": {},
     "output_type": "display_data"
    }
   ],
   "source": [
    "users_month_pivot_ultra['mb_sum'].hist(bins=100)\n",
    "print('Среднее колличество трафика в месяц',users_month_pivot_ultra['mb_sum'].mean())\n",
    "print('Медиана колличества трафика в месяц',users_month_pivot_ultra['mb_sum'].median())\n",
    "print('Дисперсия трафика в месяц', np.var(users_month_pivot_ultra['mb_sum']))\n",
    "print('Стандартное отклонение трафика в месяц',np.sqrt(np.var(users_month_pivot_ultra['mb_sum'])))"
   ]
  },
  {
   "cell_type": "markdown",
   "metadata": {},
   "source": [
    "Гистограмма имеет положительную скошенность."
   ]
  },
  {
   "cell_type": "code",
   "execution_count": 31,
   "metadata": {},
   "outputs": [
    {
     "name": "stdout",
     "output_type": "stream",
     "text": [
      "Среднее колличество смс в месяц 48.75923970432946\n",
      "Медиана колличества смс в месяц 39.0\n",
      "Дисперсия смс в месяц 2169.4330587672516\n",
      "Стандартное отклонение смс в месяц 46.577173151311484\n"
     ]
    },
    {
     "data": {
      "image/png": "[encoded data removed]",
      "text/plain": [
       "<Figure size 432x288 with 1 Axes>"
      ]
     },
     "metadata": {},
     "output_type": "display_data"
    }
   ],
   "source": [
    "users_month_pivot_ultra['messages_count'].hist(bins=100)\n",
    "print('Среднее колличество смс в месяц',users_month_pivot_ultra['messages_count'].mean())\n",
    "print('Медиана колличества смс в месяц',users_month_pivot_ultra['messages_count'].median())\n",
    "print('Дисперсия смс в месяц', np.var(users_month_pivot_ultra['messages_count']))\n",
    "print('Стандартное отклонение смс в месяц',np.sqrt(np.var(users_month_pivot_ultra['messages_count'])))"
   ]
  },
  {
   "cell_type": "markdown",
   "metadata": {},
   "source": [
    "Гистограмма имеет положительную скошенность."
   ]
  },
  {
   "cell_type": "markdown",
   "metadata": {},
   "source": [
    "**Пронанализируем тариф Смарт**"
   ]
  },
  {
   "cell_type": "code",
   "execution_count": 32,
   "metadata": {},
   "outputs": [
    {
     "name": "stdout",
     "output_type": "stream",
     "text": [
      "Среднее колличество минут в месяц 395.6888788833859\n",
      "Медиана колличества минут в месяц 399.0\n",
      "Дисперсия минут в месяц 31901.18415817578\n",
      "Стандартное отклонение минут в месяц 178.60902597062608\n"
     ]
    },
    {
     "data": {
      "image/png": "[encoded data removed]",
      "text/plain": [
       "<Figure size 432x288 with 1 Axes>"
      ]
     },
     "metadata": {},
     "output_type": "display_data"
    }
   ],
   "source": [
    "users_month_pivot_smart['calls_sum'].hist(bins=100)\n",
    "print('Среднее колличество минут в месяц',users_month_pivot_smart['calls_sum'].mean())\n",
    "print('Медиана колличества минут в месяц',users_month_pivot_smart['calls_sum'].median())\n",
    "print('Дисперсия минут в месяц', np.var(users_month_pivot_smart['calls_sum']))\n",
    "print('Стандартное отклонение минут в месяц',np.sqrt(np.var(users_month_pivot_smart['calls_sum'])))"
   ]
  },
  {
   "cell_type": "markdown",
   "metadata": {},
   "source": [
    "Гистограмма имеет отрицательную скошенность."
   ]
  },
  {
   "cell_type": "code",
   "execution_count": 33,
   "metadata": {},
   "outputs": [
    {
     "name": "stdout",
     "output_type": "stream",
     "text": [
      "Среднее колличество трафика в месяц 16210.698334083747\n",
      "Медиана колличества трафика в месяц 16505.0\n",
      "Дисперсия трафика в месяц 34515635.80093824\n",
      "Стандартное отклонение трафика в месяц 5875.000919228714\n"
     ]
    },
    {
     "data": {
      "image/png": "[encoded data removed]",
      "text/plain": [
       "<Figure size 432x288 with 1 Axes>"
      ]
     },
     "metadata": {},
     "output_type": "display_data"
    }
   ],
   "source": [
    "users_month_pivot_smart['mb_sum'].hist(bins=100)\n",
    "print('Среднее колличество трафика в месяц',users_month_pivot_smart['mb_sum'].mean())\n",
    "print('Медиана колличества трафика в месяц',users_month_pivot_smart['mb_sum'].median())\n",
    "print('Дисперсия трафика в месяц', np.var(users_month_pivot_smart['mb_sum']))\n",
    "print('Стандартное отклонение трафика в месяц',np.sqrt(np.var(users_month_pivot_smart['mb_sum'])))"
   ]
  },
  {
   "cell_type": "markdown",
   "metadata": {},
   "source": [
    "Гистограмма имеет отрицательную скошенность."
   ]
  },
  {
   "cell_type": "code",
   "execution_count": 34,
   "metadata": {},
   "outputs": [
    {
     "name": "stdout",
     "output_type": "stream",
     "text": [
      "Среднее колличество смс в месяц 33.392165691130124\n",
      "Медиана колличества смс в месяц 28.0\n",
      "Дисперсия смс в месяц 798.8462060707005\n",
      "Стандартное отклонение смс в месяц 28.26386750023253\n"
     ]
    },
    {
     "data": {
      "image/png": "[encoded data removed]",
      "text/plain": [
       "<Figure size 432x288 with 1 Axes>"
      ]
     },
     "metadata": {},
     "output_type": "display_data"
    }
   ],
   "source": [
    "users_month_pivot_smart['messages_count'].hist(bins=100)\n",
    "print('Среднее колличество смс в месяц',users_month_pivot_smart['messages_count'].mean())\n",
    "print('Медиана колличества смс в месяц',users_month_pivot_smart['messages_count'].median())\n",
    "print('Дисперсия смс в месяц', np.var(users_month_pivot_smart['messages_count']))\n",
    "print('Стандартное отклонение смс в месяц',np.sqrt(np.var(users_month_pivot_smart['messages_count'])))"
   ]
  },
  {
   "cell_type": "markdown",
   "metadata": {},
   "source": [
    "Гистограмма имеет положительную скошенность."
   ]
  },
  {
   "cell_type": "markdown",
   "metadata": {},
   "source": [
    "**Тариф Ультра.**\n",
    "\n",
    "Гистограммы у данного тарифа имеют положительную скошенность.\n",
    "Пользователи данного тарифа не столь активно им пользуются и редко выходят за границы, выделенного им пакета услуг.\n",
    "Цена данного тарифа говорит о том, что люди, использующие его более обеспечены и готовы переплачивать для того чтобы всегда быть на связи и иметь выход в интернет.\n",
    "\n",
    "**Тариф Смарт.**\n",
    "\n",
    "Гистограммы у данного тарифа имеют отрицательную скошенность, за исключением гистограммы смс.\n",
    "Пользователи данного тарифа активно им пользуются, расходуя имеющийся пакет по максимуму, особенно активно виден расход трафика.Порой пользователи выходят за пределы выделенного им пакета. Исключением расходов является смс, которые используется достаточно мало, скорее всего это работа с банковскими приложениями или т.п.\n",
    "\n",
    "\n",
    "Пользователи этих тарифов более активно расходуют интернет трафик, нежели смс или звонки, ввиду развия соцсетей и мессенджеров.\n",
    "\n"
   ]
  },
  {
   "cell_type": "markdown",
   "metadata": {},
   "source": [
    "## Шаг 4. Проверьте гипотезы"
   ]
  },
  {
   "cell_type": "markdown",
   "metadata": {},
   "source": [
    "Проверим гипотезу, что выручка пользователей тарифов Смарт и Ультра Равны."
   ]
  },
  {
   "cell_type": "code",
   "execution_count": 35,
   "metadata": {},
   "outputs": [
    {
     "name": "stdout",
     "output_type": "stream",
     "text": [
      "p-значение: 6.840924107901997e-206\n",
      "Отвергаем нулевую гипотезу\n"
     ]
    }
   ],
   "source": [
    "from scipy import stats as st\n",
    "\n",
    "alpha = 0.05\n",
    "\n",
    "results = st.ttest_ind(\n",
    "    users_month_pivot_ultra['payed'], \n",
    "    users_month_pivot_smart['payed'])\n",
    "\n",
    "print('p-значение:', results.pvalue)\n",
    "\n",
    "if (results.pvalue < alpha):\n",
    "    print(\"Отвергаем нулевую гипотезу\")\n",
    "else:\n",
    "    print(\"Не получилось отвергнуть нулевую гипотезу\")"
   ]
  },
  {
   "cell_type": "markdown",
   "metadata": {},
   "source": [
    "Нулевая и альтернативная гипотезы формируются на основании средних значений трат пользователей для двух тарифов.\n",
    "Выручка с тарифов Смарт и Ультра не равная, поэтому нулевая гипотеза отвергается.\n",
    "Можно сделать вывод, что пользователи тарифа Ультра переплачивают за свои услуги.\n",
    "\n",
    "\n",
    "Проверим гипотезу о том, что средняя выручка пользователей из Москвы отличается от выручки пользователей из других регионов"
   ]
  },
  {
   "cell_type": "code",
   "execution_count": 36,
   "metadata": {},
   "outputs": [],
   "source": [
    "moscow_users = users_month_pivot.query('city == \"Москва\"')\n",
    "another_users = users_month_pivot.query('city != \"Москва\"')"
   ]
  },
  {
   "cell_type": "code",
   "execution_count": 37,
   "metadata": {},
   "outputs": [
    {
     "name": "stdout",
     "output_type": "stream",
     "text": [
      "p-значение: 0.3278037823412776\n",
      "Не получилось отвергнуть нулевую гипотезу\n"
     ]
    }
   ],
   "source": [
    "alpha = 0.05\n",
    "\n",
    "results = st.ttest_ind(\n",
    "    moscow_users['payed'], \n",
    "    another_users['payed'])\n",
    "\n",
    "print('p-значение:', results.pvalue)\n",
    "\n",
    "if (results.pvalue < alpha):\n",
    "    print(\"Отвергаем нулевую гипотезу\")\n",
    "else:\n",
    "    print(\"Не получилось отвергнуть нулевую гипотезу\")"
   ]
  },
  {
   "cell_type": "markdown",
   "metadata": {},
   "source": [
    "Нулевая и альтернативная гипотезы формируются на основании средних значений трат пользователей для Москвы и других городов.\n",
    "Значения трат для Москвы и других городов не сильно отличаются, отсюда делаем вывод, что гипотеза про большую доходность с пользователей из Москвы не подтвердилась. Доходы плюс минус равны вне зависимости от локации пользователей."
   ]
  },
  {
   "cell_type": "markdown",
   "metadata": {},
   "source": [
    "## Шаг 5. Напишите общий вывод"
   ]
  },
  {
   "cell_type": "markdown",
   "metadata": {},
   "source": [
    "**Общий вывод:**\n",
    "Пользователи тарифа **Смарт** активно им пользуются, расходуя имеющийся пакет по максимуму, особенно активно виден расход трафика.Порой пользователи выходят за пределы выделенного им пакета. Исключением расходов является смс, которые используется достаточно мало, скорее всего это работа с банковскими приложениями или т.п.\n",
    "Пользователи тарифа **Ультра** не столь активно им пользуются и редко выходят за границы, выделенного им пакета услуг.\n",
    "Цена данного тарифа говорит о том, что люди, использующие его более обеспечены и готовы переплачивать для того чтобы всегда быть на связи и иметь выход в интернет.\n",
    "\n",
    "В результате анализа было доказано, что траты пользователей не равны и пользователи тарифа **Ультра** переплачивают за свои услуги.\n",
    "\n",
    "Вне зависимотси от города проживания, траты пользователей примерно одинаковы и гипотеза о том, что в Москве люди больше платят не подтвердилась."
   ]
  },
  {
   "cell_type": "code",
   "execution_count": null,
   "metadata": {},
   "outputs": [],
   "source": []
  }
 ],
 "metadata": {
  "kernelspec": {
   "display_name": "Python 3",
   "language": "python",
   "name": "python3"
  },
  "language_info": {
   "codemirror_mode": {
    "name": "ipython",
    "version": 3
   },
   "file_extension": ".py",
   "mimetype": "text/x-python",
   "name": "python",
   "nbconvert_exporter": "python",
   "pygments_lexer": "ipython3",
   "version": "3.8.3"
  },
  "toc": {
   "base_numbering": 1,
   "nav_menu": {},
   "number_sections": true,
   "sideBar": true,
   "skip_h1_title": true,
   "title_cell": "Table of Contents",
   "title_sidebar": "Contents",
   "toc_cell": false,
   "toc_position": {},
   "toc_section_display": true,
   "toc_window_display": false
  }
 },
 "nbformat": 4,
 "nbformat_minor": 2
}
